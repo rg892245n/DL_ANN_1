{
  "nbformat": 4,
  "nbformat_minor": 0,
  "metadata": {
    "colab": {
      "provenance": [],
      "collapsed_sections": [
        "F7q7dIre1VdL"
      ],
      "gpuType": "T4"
    },
    "kernelspec": {
      "name": "python3",
      "display_name": "Python 3"
    },
    "language_info": {
      "name": "python"
    },
    "accelerator": "GPU"
  },
  "cells": [
    {
      "cell_type": "markdown",
      "source": [
        "## Checking File Hardware setup  and configuration"
      ],
      "metadata": {
        "id": "F7q7dIre1VdL"
      }
    },
    {
      "cell_type": "code",
      "source": [
        "#to check on which hardware (CPU/GPU/TPU) file is running\n",
        "\n",
        "import tensorflow as tf\n",
        "tf.test.gpu_device_name()"
      ],
      "metadata": {
        "colab": {
          "base_uri": "https://localhost:8080/",
          "height": 36
        },
        "id": "dMSS9JRuWlh5",
        "outputId": "57ac1e2f-a067-49c8-fcde-556b01db5d03"
      },
      "execution_count": 3,
      "outputs": [
        {
          "output_type": "execute_result",
          "data": {
            "text/plain": [
              "'/device:GPU:0'"
            ],
            "application/vnd.google.colaboratory.intrinsic+json": {
              "type": "string"
            }
          },
          "metadata": {},
          "execution_count": 3
        }
      ]
    },
    {
      "cell_type": "code",
      "source": [
        "# which GPU you're using and list of all devices\n",
        "\n",
        "from tensorflow.python.client import device_lib\n",
        "device_lib.list_local_devices()"
      ],
      "metadata": {
        "colab": {
          "base_uri": "https://localhost:8080/"
        },
        "id": "Xv3QgWrnWzN7",
        "outputId": "3e4e04b6-ace0-4086-8798-0c59a7520482"
      },
      "execution_count": 4,
      "outputs": [
        {
          "output_type": "execute_result",
          "data": {
            "text/plain": [
              "[name: \"/device:CPU:0\"\n",
              " device_type: \"CPU\"\n",
              " memory_limit: 268435456\n",
              " locality {\n",
              " }\n",
              " incarnation: 6790969883232166870\n",
              " xla_global_id: -1,\n",
              " name: \"/device:GPU:0\"\n",
              " device_type: \"GPU\"\n",
              " memory_limit: 14328594432\n",
              " locality {\n",
              "   bus_id: 1\n",
              "   links {\n",
              "   }\n",
              " }\n",
              " incarnation: 4760699185812697456\n",
              " physical_device_desc: \"device: 0, name: Tesla T4, pci bus id: 0000:00:04.0, compute capability: 7.5\"\n",
              " xla_global_id: 416903419]"
            ]
          },
          "metadata": {},
          "execution_count": 4
        }
      ]
    },
    {
      "cell_type": "code",
      "source": [
        "#RAM Information\n",
        "\n",
        "!cat /proc/meminfo"
      ],
      "metadata": {
        "colab": {
          "base_uri": "https://localhost:8080/"
        },
        "id": "cC2rvHg-XaO_",
        "outputId": "285703d7-34e1-4bfb-80ef-6ce47f66b952"
      },
      "execution_count": 8,
      "outputs": [
        {
          "output_type": "stream",
          "name": "stdout",
          "text": [
            "MemTotal:       13294252 kB\n",
            "MemFree:         8466440 kB\n",
            "MemAvailable:   11243788 kB\n",
            "Buffers:           69668 kB\n",
            "Cached:          2919844 kB\n",
            "SwapCached:            0 kB\n",
            "Active:           744176 kB\n",
            "Inactive:        3690480 kB\n",
            "Active(anon):       1124 kB\n",
            "Inactive(anon):  1455604 kB\n",
            "Active(file):     743052 kB\n",
            "Inactive(file):  2234876 kB\n",
            "Unevictable:          12 kB\n",
            "Mlocked:              12 kB\n",
            "SwapTotal:             0 kB\n",
            "SwapFree:              0 kB\n",
            "Dirty:               392 kB\n",
            "Writeback:             0 kB\n",
            "AnonPages:       1442784 kB\n",
            "Mapped:           805212 kB\n",
            "Shmem:             11580 kB\n",
            "KReclaimable:      80748 kB\n",
            "Slab:             126488 kB\n",
            "SReclaimable:      80748 kB\n",
            "SUnreclaim:        45740 kB\n",
            "KernelStack:        5840 kB\n",
            "PageTables:        14820 kB\n",
            "NFS_Unstable:          0 kB\n",
            "Bounce:                0 kB\n",
            "WritebackTmp:          0 kB\n",
            "CommitLimit:     6647124 kB\n",
            "Committed_AS:    3903344 kB\n",
            "VmallocTotal:   34359738367 kB\n",
            "VmallocUsed:       78640 kB\n",
            "VmallocChunk:          0 kB\n",
            "Percpu:             1304 kB\n",
            "HardwareCorrupted:     0 kB\n",
            "AnonHugePages:     24576 kB\n",
            "ShmemHugePages:        0 kB\n",
            "ShmemPmdMapped:        0 kB\n",
            "FileHugePages:         0 kB\n",
            "FilePmdMapped:         0 kB\n",
            "CmaTotal:              0 kB\n",
            "CmaFree:               0 kB\n",
            "HugePages_Total:       0\n",
            "HugePages_Free:        0\n",
            "HugePages_Rsvd:        0\n",
            "HugePages_Surp:        0\n",
            "Hugepagesize:       2048 kB\n",
            "Hugetlb:               0 kB\n",
            "DirectMap4k:      222008 kB\n",
            "DirectMap2M:     5017600 kB\n",
            "DirectMap1G:    10485760 kB\n"
          ]
        }
      ]
    },
    {
      "cell_type": "code",
      "source": [
        "!cat /proc/cpuinfo"
      ],
      "metadata": {
        "id": "omYWIbgn1Abq",
        "colab": {
          "base_uri": "https://localhost:8080/"
        },
        "outputId": "fc093c92-7dbc-4409-8ab0-62ea9619a51e"
      },
      "execution_count": 9,
      "outputs": [
        {
          "output_type": "stream",
          "name": "stdout",
          "text": [
            "processor\t: 0\n",
            "vendor_id\t: GenuineIntel\n",
            "cpu family\t: 6\n",
            "model\t\t: 63\n",
            "model name\t: Intel(R) Xeon(R) CPU @ 2.30GHz\n",
            "stepping\t: 0\n",
            "microcode\t: 0xffffffff\n",
            "cpu MHz\t\t: 2299.998\n",
            "cache size\t: 46080 KB\n",
            "physical id\t: 0\n",
            "siblings\t: 2\n",
            "core id\t\t: 0\n",
            "cpu cores\t: 1\n",
            "apicid\t\t: 0\n",
            "initial apicid\t: 0\n",
            "fpu\t\t: yes\n",
            "fpu_exception\t: yes\n",
            "cpuid level\t: 13\n",
            "wp\t\t: yes\n",
            "flags\t\t: fpu vme de pse tsc msr pae mce cx8 apic sep mtrr pge mca cmov pat pse36 clflush mmx fxsr sse sse2 ss ht syscall nx pdpe1gb rdtscp lm constant_tsc rep_good nopl xtopology nonstop_tsc cpuid tsc_known_freq pni pclmulqdq ssse3 fma cx16 pcid sse4_1 sse4_2 x2apic movbe popcnt aes xsave avx f16c rdrand hypervisor lahf_lm abm invpcid_single ssbd ibrs ibpb stibp fsgsbase tsc_adjust bmi1 avx2 smep bmi2 erms invpcid xsaveopt arat md_clear arch_capabilities\n",
            "bugs\t\t: cpu_meltdown spectre_v1 spectre_v2 spec_store_bypass l1tf mds swapgs mmio_stale_data retbleed\n",
            "bogomips\t: 4599.99\n",
            "clflush size\t: 64\n",
            "cache_alignment\t: 64\n",
            "address sizes\t: 46 bits physical, 48 bits virtual\n",
            "power management:\n",
            "\n",
            "processor\t: 1\n",
            "vendor_id\t: GenuineIntel\n",
            "cpu family\t: 6\n",
            "model\t\t: 63\n",
            "model name\t: Intel(R) Xeon(R) CPU @ 2.30GHz\n",
            "stepping\t: 0\n",
            "microcode\t: 0xffffffff\n",
            "cpu MHz\t\t: 2299.998\n",
            "cache size\t: 46080 KB\n",
            "physical id\t: 0\n",
            "siblings\t: 2\n",
            "core id\t\t: 0\n",
            "cpu cores\t: 1\n",
            "apicid\t\t: 1\n",
            "initial apicid\t: 1\n",
            "fpu\t\t: yes\n",
            "fpu_exception\t: yes\n",
            "cpuid level\t: 13\n",
            "wp\t\t: yes\n",
            "flags\t\t: fpu vme de pse tsc msr pae mce cx8 apic sep mtrr pge mca cmov pat pse36 clflush mmx fxsr sse sse2 ss ht syscall nx pdpe1gb rdtscp lm constant_tsc rep_good nopl xtopology nonstop_tsc cpuid tsc_known_freq pni pclmulqdq ssse3 fma cx16 pcid sse4_1 sse4_2 x2apic movbe popcnt aes xsave avx f16c rdrand hypervisor lahf_lm abm invpcid_single ssbd ibrs ibpb stibp fsgsbase tsc_adjust bmi1 avx2 smep bmi2 erms invpcid xsaveopt arat md_clear arch_capabilities\n",
            "bugs\t\t: cpu_meltdown spectre_v1 spectre_v2 spec_store_bypass l1tf mds swapgs mmio_stale_data retbleed\n",
            "bogomips\t: 4599.99\n",
            "clflush size\t: 64\n",
            "cache_alignment\t: 64\n",
            "address sizes\t: 46 bits physical, 48 bits virtual\n",
            "power management:\n",
            "\n"
          ]
        }
      ]
    },
    {
      "cell_type": "markdown",
      "source": [
        "## ANN"
      ],
      "metadata": {
        "id": "Wt_rh8Ix1eRh"
      }
    },
    {
      "cell_type": "code",
      "execution_count": null,
      "metadata": {
        "id": "34tRRWd1S0en"
      },
      "outputs": [],
      "source": [
        "from google.colab import drive\n",
        "drive.mount('/content/drive')"
      ]
    },
    {
      "cell_type": "code",
      "source": [
        "!pip install -q keras"
      ],
      "metadata": {
        "id": "z7VvnU4dUkRP"
      },
      "execution_count": 10,
      "outputs": []
    },
    {
      "cell_type": "code",
      "source": [
        "# Part 1 - Data Preprocessing\n",
        "\n",
        "# Importing the libraries\n",
        "import numpy as np\n",
        "import matplotlib.pyplot as plt\n",
        "import pandas as pd"
      ],
      "metadata": {
        "id": "gcU17MOd3q0Q"
      },
      "execution_count": 12,
      "outputs": []
    },
    {
      "cell_type": "code",
      "source": [
        "# Importing the dataset\n",
        "dataset = pd.read_csv('Churn_Modelling.csv')\n",
        "X = dataset.iloc[:, 3:13]\n",
        "y = dataset.iloc[:, 13]"
      ],
      "metadata": {
        "id": "hH4PgHii4VsT"
      },
      "execution_count": 13,
      "outputs": []
    },
    {
      "cell_type": "code",
      "source": [
        "dataset.isnull().sum()"
      ],
      "metadata": {
        "colab": {
          "base_uri": "https://localhost:8080/"
        },
        "id": "dJwBmc2y4Ypg",
        "outputId": "a5455e4c-f4ea-4251-f43d-41f3d7637b85"
      },
      "execution_count": 14,
      "outputs": [
        {
          "output_type": "execute_result",
          "data": {
            "text/plain": [
              "RowNumber          0\n",
              "CustomerId         0\n",
              "Surname            0\n",
              "CreditScore        0\n",
              "Geography          0\n",
              "Gender             0\n",
              "Age                0\n",
              "Tenure             0\n",
              "Balance            0\n",
              "NumOfProducts      0\n",
              "HasCrCard          0\n",
              "IsActiveMember     0\n",
              "EstimatedSalary    0\n",
              "Exited             0\n",
              "dtype: int64"
            ]
          },
          "metadata": {},
          "execution_count": 14
        }
      ]
    },
    {
      "cell_type": "code",
      "source": [
        "X.head()"
      ],
      "metadata": {
        "colab": {
          "base_uri": "https://localhost:8080/",
          "height": 206
        },
        "id": "VuKf-Ddn4bab",
        "outputId": "4da8e71b-4408-450e-bb0e-d63d2aeeef8b"
      },
      "execution_count": 15,
      "outputs": [
        {
          "output_type": "execute_result",
          "data": {
            "text/plain": [
              "   CreditScore Geography  Gender  Age  Tenure    Balance  NumOfProducts  \\\n",
              "0          619    France  Female   42       2       0.00              1   \n",
              "1          608     Spain  Female   41       1   83807.86              1   \n",
              "2          502    France  Female   42       8  159660.80              3   \n",
              "3          699    France  Female   39       1       0.00              2   \n",
              "4          850     Spain  Female   43       2  125510.82              1   \n",
              "\n",
              "   HasCrCard  IsActiveMember  EstimatedSalary  \n",
              "0          1               1        101348.88  \n",
              "1          0               1        112542.58  \n",
              "2          1               0        113931.57  \n",
              "3          0               0         93826.63  \n",
              "4          1               1         79084.10  "
            ],
            "text/html": [
              "\n",
              "\n",
              "  <div id=\"df-d07d64da-a9ce-4d19-a455-9f8dfafec7b0\">\n",
              "    <div class=\"colab-df-container\">\n",
              "      <div>\n",
              "<style scoped>\n",
              "    .dataframe tbody tr th:only-of-type {\n",
              "        vertical-align: middle;\n",
              "    }\n",
              "\n",
              "    .dataframe tbody tr th {\n",
              "        vertical-align: top;\n",
              "    }\n",
              "\n",
              "    .dataframe thead th {\n",
              "        text-align: right;\n",
              "    }\n",
              "</style>\n",
              "<table border=\"1\" class=\"dataframe\">\n",
              "  <thead>\n",
              "    <tr style=\"text-align: right;\">\n",
              "      <th></th>\n",
              "      <th>CreditScore</th>\n",
              "      <th>Geography</th>\n",
              "      <th>Gender</th>\n",
              "      <th>Age</th>\n",
              "      <th>Tenure</th>\n",
              "      <th>Balance</th>\n",
              "      <th>NumOfProducts</th>\n",
              "      <th>HasCrCard</th>\n",
              "      <th>IsActiveMember</th>\n",
              "      <th>EstimatedSalary</th>\n",
              "    </tr>\n",
              "  </thead>\n",
              "  <tbody>\n",
              "    <tr>\n",
              "      <th>0</th>\n",
              "      <td>619</td>\n",
              "      <td>France</td>\n",
              "      <td>Female</td>\n",
              "      <td>42</td>\n",
              "      <td>2</td>\n",
              "      <td>0.00</td>\n",
              "      <td>1</td>\n",
              "      <td>1</td>\n",
              "      <td>1</td>\n",
              "      <td>101348.88</td>\n",
              "    </tr>\n",
              "    <tr>\n",
              "      <th>1</th>\n",
              "      <td>608</td>\n",
              "      <td>Spain</td>\n",
              "      <td>Female</td>\n",
              "      <td>41</td>\n",
              "      <td>1</td>\n",
              "      <td>83807.86</td>\n",
              "      <td>1</td>\n",
              "      <td>0</td>\n",
              "      <td>1</td>\n",
              "      <td>112542.58</td>\n",
              "    </tr>\n",
              "    <tr>\n",
              "      <th>2</th>\n",
              "      <td>502</td>\n",
              "      <td>France</td>\n",
              "      <td>Female</td>\n",
              "      <td>42</td>\n",
              "      <td>8</td>\n",
              "      <td>159660.80</td>\n",
              "      <td>3</td>\n",
              "      <td>1</td>\n",
              "      <td>0</td>\n",
              "      <td>113931.57</td>\n",
              "    </tr>\n",
              "    <tr>\n",
              "      <th>3</th>\n",
              "      <td>699</td>\n",
              "      <td>France</td>\n",
              "      <td>Female</td>\n",
              "      <td>39</td>\n",
              "      <td>1</td>\n",
              "      <td>0.00</td>\n",
              "      <td>2</td>\n",
              "      <td>0</td>\n",
              "      <td>0</td>\n",
              "      <td>93826.63</td>\n",
              "    </tr>\n",
              "    <tr>\n",
              "      <th>4</th>\n",
              "      <td>850</td>\n",
              "      <td>Spain</td>\n",
              "      <td>Female</td>\n",
              "      <td>43</td>\n",
              "      <td>2</td>\n",
              "      <td>125510.82</td>\n",
              "      <td>1</td>\n",
              "      <td>1</td>\n",
              "      <td>1</td>\n",
              "      <td>79084.10</td>\n",
              "    </tr>\n",
              "  </tbody>\n",
              "</table>\n",
              "</div>\n",
              "      <button class=\"colab-df-convert\" onclick=\"convertToInteractive('df-d07d64da-a9ce-4d19-a455-9f8dfafec7b0')\"\n",
              "              title=\"Convert this dataframe to an interactive table.\"\n",
              "              style=\"display:none;\">\n",
              "\n",
              "  <svg xmlns=\"http://www.w3.org/2000/svg\" height=\"24px\"viewBox=\"0 0 24 24\"\n",
              "       width=\"24px\">\n",
              "    <path d=\"M0 0h24v24H0V0z\" fill=\"none\"/>\n",
              "    <path d=\"M18.56 5.44l.94 2.06.94-2.06 2.06-.94-2.06-.94-.94-2.06-.94 2.06-2.06.94zm-11 1L8.5 8.5l.94-2.06 2.06-.94-2.06-.94L8.5 2.5l-.94 2.06-2.06.94zm10 10l.94 2.06.94-2.06 2.06-.94-2.06-.94-.94-2.06-.94 2.06-2.06.94z\"/><path d=\"M17.41 7.96l-1.37-1.37c-.4-.4-.92-.59-1.43-.59-.52 0-1.04.2-1.43.59L10.3 9.45l-7.72 7.72c-.78.78-.78 2.05 0 2.83L4 21.41c.39.39.9.59 1.41.59.51 0 1.02-.2 1.41-.59l7.78-7.78 2.81-2.81c.8-.78.8-2.07 0-2.86zM5.41 20L4 18.59l7.72-7.72 1.47 1.35L5.41 20z\"/>\n",
              "  </svg>\n",
              "      </button>\n",
              "\n",
              "\n",
              "\n",
              "    <div id=\"df-60d967c0-03a4-4352-b4bc-d6f7eb5a0011\">\n",
              "      <button class=\"colab-df-quickchart\" onclick=\"quickchart('df-60d967c0-03a4-4352-b4bc-d6f7eb5a0011')\"\n",
              "              title=\"Suggest charts.\"\n",
              "              style=\"display:none;\">\n",
              "\n",
              "<svg xmlns=\"http://www.w3.org/2000/svg\" height=\"24px\"viewBox=\"0 0 24 24\"\n",
              "     width=\"24px\">\n",
              "    <g>\n",
              "        <path d=\"M19 3H5c-1.1 0-2 .9-2 2v14c0 1.1.9 2 2 2h14c1.1 0 2-.9 2-2V5c0-1.1-.9-2-2-2zM9 17H7v-7h2v7zm4 0h-2V7h2v10zm4 0h-2v-4h2v4z\"/>\n",
              "    </g>\n",
              "</svg>\n",
              "      </button>\n",
              "    </div>\n",
              "\n",
              "<style>\n",
              "  .colab-df-quickchart {\n",
              "    background-color: #E8F0FE;\n",
              "    border: none;\n",
              "    border-radius: 50%;\n",
              "    cursor: pointer;\n",
              "    display: none;\n",
              "    fill: #1967D2;\n",
              "    height: 32px;\n",
              "    padding: 0 0 0 0;\n",
              "    width: 32px;\n",
              "  }\n",
              "\n",
              "  .colab-df-quickchart:hover {\n",
              "    background-color: #E2EBFA;\n",
              "    box-shadow: 0px 1px 2px rgba(60, 64, 67, 0.3), 0px 1px 3px 1px rgba(60, 64, 67, 0.15);\n",
              "    fill: #174EA6;\n",
              "  }\n",
              "\n",
              "  [theme=dark] .colab-df-quickchart {\n",
              "    background-color: #3B4455;\n",
              "    fill: #D2E3FC;\n",
              "  }\n",
              "\n",
              "  [theme=dark] .colab-df-quickchart:hover {\n",
              "    background-color: #434B5C;\n",
              "    box-shadow: 0px 1px 3px 1px rgba(0, 0, 0, 0.15);\n",
              "    filter: drop-shadow(0px 1px 2px rgba(0, 0, 0, 0.3));\n",
              "    fill: #FFFFFF;\n",
              "  }\n",
              "</style>\n",
              "\n",
              "    <script>\n",
              "      async function quickchart(key) {\n",
              "        const containerElement = document.querySelector('#' + key);\n",
              "        const charts = await google.colab.kernel.invokeFunction(\n",
              "            'suggestCharts', [key], {});\n",
              "      }\n",
              "    </script>\n",
              "\n",
              "      <script>\n",
              "\n",
              "function displayQuickchartButton(domScope) {\n",
              "  let quickchartButtonEl =\n",
              "    domScope.querySelector('#df-60d967c0-03a4-4352-b4bc-d6f7eb5a0011 button.colab-df-quickchart');\n",
              "  quickchartButtonEl.style.display =\n",
              "    google.colab.kernel.accessAllowed ? 'block' : 'none';\n",
              "}\n",
              "\n",
              "        displayQuickchartButton(document);\n",
              "      </script>\n",
              "      <style>\n",
              "    .colab-df-container {\n",
              "      display:flex;\n",
              "      flex-wrap:wrap;\n",
              "      gap: 12px;\n",
              "    }\n",
              "\n",
              "    .colab-df-convert {\n",
              "      background-color: #E8F0FE;\n",
              "      border: none;\n",
              "      border-radius: 50%;\n",
              "      cursor: pointer;\n",
              "      display: none;\n",
              "      fill: #1967D2;\n",
              "      height: 32px;\n",
              "      padding: 0 0 0 0;\n",
              "      width: 32px;\n",
              "    }\n",
              "\n",
              "    .colab-df-convert:hover {\n",
              "      background-color: #E2EBFA;\n",
              "      box-shadow: 0px 1px 2px rgba(60, 64, 67, 0.3), 0px 1px 3px 1px rgba(60, 64, 67, 0.15);\n",
              "      fill: #174EA6;\n",
              "    }\n",
              "\n",
              "    [theme=dark] .colab-df-convert {\n",
              "      background-color: #3B4455;\n",
              "      fill: #D2E3FC;\n",
              "    }\n",
              "\n",
              "    [theme=dark] .colab-df-convert:hover {\n",
              "      background-color: #434B5C;\n",
              "      box-shadow: 0px 1px 3px 1px rgba(0, 0, 0, 0.15);\n",
              "      filter: drop-shadow(0px 1px 2px rgba(0, 0, 0, 0.3));\n",
              "      fill: #FFFFFF;\n",
              "    }\n",
              "  </style>\n",
              "\n",
              "      <script>\n",
              "        const buttonEl =\n",
              "          document.querySelector('#df-d07d64da-a9ce-4d19-a455-9f8dfafec7b0 button.colab-df-convert');\n",
              "        buttonEl.style.display =\n",
              "          google.colab.kernel.accessAllowed ? 'block' : 'none';\n",
              "\n",
              "        async function convertToInteractive(key) {\n",
              "          const element = document.querySelector('#df-d07d64da-a9ce-4d19-a455-9f8dfafec7b0');\n",
              "          const dataTable =\n",
              "            await google.colab.kernel.invokeFunction('convertToInteractive',\n",
              "                                                     [key], {});\n",
              "          if (!dataTable) return;\n",
              "\n",
              "          const docLinkHtml = 'Like what you see? Visit the ' +\n",
              "            '<a target=\"_blank\" href=https://colab.research.google.com/notebooks/data_table.ipynb>data table notebook</a>'\n",
              "            + ' to learn more about interactive tables.';\n",
              "          element.innerHTML = '';\n",
              "          dataTable['output_type'] = 'display_data';\n",
              "          await google.colab.output.renderOutput(dataTable, element);\n",
              "          const docLink = document.createElement('div');\n",
              "          docLink.innerHTML = docLinkHtml;\n",
              "          element.appendChild(docLink);\n",
              "        }\n",
              "      </script>\n",
              "    </div>\n",
              "  </div>\n"
            ]
          },
          "metadata": {},
          "execution_count": 15
        }
      ]
    },
    {
      "cell_type": "code",
      "source": [
        "y.head()"
      ],
      "metadata": {
        "colab": {
          "base_uri": "https://localhost:8080/"
        },
        "id": "w5Xc7CQV4eHN",
        "outputId": "ad3e5464-4b72-4045-8c65-bbdc12970347"
      },
      "execution_count": 16,
      "outputs": [
        {
          "output_type": "execute_result",
          "data": {
            "text/plain": [
              "0    1\n",
              "1    0\n",
              "2    1\n",
              "3    0\n",
              "4    0\n",
              "Name: Exited, dtype: int64"
            ]
          },
          "metadata": {},
          "execution_count": 16
        }
      ]
    },
    {
      "cell_type": "code",
      "source": [
        "#Create dummy variables\n",
        "geography=pd.get_dummies(X[\"Geography\"],drop_first=True)\n",
        "gender=pd.get_dummies(X['Gender'],drop_first=True)"
      ],
      "metadata": {
        "id": "o_Fche0g4f7b"
      },
      "execution_count": 17,
      "outputs": []
    },
    {
      "cell_type": "code",
      "source": [
        "## Concatenate the Data Frames\n",
        "\n",
        "X=pd.concat([X,geography,gender],axis=1)\n",
        "\n",
        "## Drop Unnecessary columns\n",
        "X=X.drop(['Geography','Gender'],axis=1)"
      ],
      "metadata": {
        "id": "_ee2jeQz4iQ6"
      },
      "execution_count": 18,
      "outputs": []
    },
    {
      "cell_type": "code",
      "source": [
        "X.head()"
      ],
      "metadata": {
        "colab": {
          "base_uri": "https://localhost:8080/",
          "height": 206
        },
        "id": "7Go5vpRO4lj5",
        "outputId": "fb052c7d-a42a-492a-dad1-7788739a7a56"
      },
      "execution_count": 19,
      "outputs": [
        {
          "output_type": "execute_result",
          "data": {
            "text/plain": [
              "   CreditScore  Age  Tenure    Balance  NumOfProducts  HasCrCard  \\\n",
              "0          619   42       2       0.00              1          1   \n",
              "1          608   41       1   83807.86              1          0   \n",
              "2          502   42       8  159660.80              3          1   \n",
              "3          699   39       1       0.00              2          0   \n",
              "4          850   43       2  125510.82              1          1   \n",
              "\n",
              "   IsActiveMember  EstimatedSalary  Germany  Spain  Male  \n",
              "0               1        101348.88        0      0     0  \n",
              "1               1        112542.58        0      1     0  \n",
              "2               0        113931.57        0      0     0  \n",
              "3               0         93826.63        0      0     0  \n",
              "4               1         79084.10        0      1     0  "
            ],
            "text/html": [
              "\n",
              "\n",
              "  <div id=\"df-db485c5e-7337-4864-a9e8-252e05e8b991\">\n",
              "    <div class=\"colab-df-container\">\n",
              "      <div>\n",
              "<style scoped>\n",
              "    .dataframe tbody tr th:only-of-type {\n",
              "        vertical-align: middle;\n",
              "    }\n",
              "\n",
              "    .dataframe tbody tr th {\n",
              "        vertical-align: top;\n",
              "    }\n",
              "\n",
              "    .dataframe thead th {\n",
              "        text-align: right;\n",
              "    }\n",
              "</style>\n",
              "<table border=\"1\" class=\"dataframe\">\n",
              "  <thead>\n",
              "    <tr style=\"text-align: right;\">\n",
              "      <th></th>\n",
              "      <th>CreditScore</th>\n",
              "      <th>Age</th>\n",
              "      <th>Tenure</th>\n",
              "      <th>Balance</th>\n",
              "      <th>NumOfProducts</th>\n",
              "      <th>HasCrCard</th>\n",
              "      <th>IsActiveMember</th>\n",
              "      <th>EstimatedSalary</th>\n",
              "      <th>Germany</th>\n",
              "      <th>Spain</th>\n",
              "      <th>Male</th>\n",
              "    </tr>\n",
              "  </thead>\n",
              "  <tbody>\n",
              "    <tr>\n",
              "      <th>0</th>\n",
              "      <td>619</td>\n",
              "      <td>42</td>\n",
              "      <td>2</td>\n",
              "      <td>0.00</td>\n",
              "      <td>1</td>\n",
              "      <td>1</td>\n",
              "      <td>1</td>\n",
              "      <td>101348.88</td>\n",
              "      <td>0</td>\n",
              "      <td>0</td>\n",
              "      <td>0</td>\n",
              "    </tr>\n",
              "    <tr>\n",
              "      <th>1</th>\n",
              "      <td>608</td>\n",
              "      <td>41</td>\n",
              "      <td>1</td>\n",
              "      <td>83807.86</td>\n",
              "      <td>1</td>\n",
              "      <td>0</td>\n",
              "      <td>1</td>\n",
              "      <td>112542.58</td>\n",
              "      <td>0</td>\n",
              "      <td>1</td>\n",
              "      <td>0</td>\n",
              "    </tr>\n",
              "    <tr>\n",
              "      <th>2</th>\n",
              "      <td>502</td>\n",
              "      <td>42</td>\n",
              "      <td>8</td>\n",
              "      <td>159660.80</td>\n",
              "      <td>3</td>\n",
              "      <td>1</td>\n",
              "      <td>0</td>\n",
              "      <td>113931.57</td>\n",
              "      <td>0</td>\n",
              "      <td>0</td>\n",
              "      <td>0</td>\n",
              "    </tr>\n",
              "    <tr>\n",
              "      <th>3</th>\n",
              "      <td>699</td>\n",
              "      <td>39</td>\n",
              "      <td>1</td>\n",
              "      <td>0.00</td>\n",
              "      <td>2</td>\n",
              "      <td>0</td>\n",
              "      <td>0</td>\n",
              "      <td>93826.63</td>\n",
              "      <td>0</td>\n",
              "      <td>0</td>\n",
              "      <td>0</td>\n",
              "    </tr>\n",
              "    <tr>\n",
              "      <th>4</th>\n",
              "      <td>850</td>\n",
              "      <td>43</td>\n",
              "      <td>2</td>\n",
              "      <td>125510.82</td>\n",
              "      <td>1</td>\n",
              "      <td>1</td>\n",
              "      <td>1</td>\n",
              "      <td>79084.10</td>\n",
              "      <td>0</td>\n",
              "      <td>1</td>\n",
              "      <td>0</td>\n",
              "    </tr>\n",
              "  </tbody>\n",
              "</table>\n",
              "</div>\n",
              "      <button class=\"colab-df-convert\" onclick=\"convertToInteractive('df-db485c5e-7337-4864-a9e8-252e05e8b991')\"\n",
              "              title=\"Convert this dataframe to an interactive table.\"\n",
              "              style=\"display:none;\">\n",
              "\n",
              "  <svg xmlns=\"http://www.w3.org/2000/svg\" height=\"24px\"viewBox=\"0 0 24 24\"\n",
              "       width=\"24px\">\n",
              "    <path d=\"M0 0h24v24H0V0z\" fill=\"none\"/>\n",
              "    <path d=\"M18.56 5.44l.94 2.06.94-2.06 2.06-.94-2.06-.94-.94-2.06-.94 2.06-2.06.94zm-11 1L8.5 8.5l.94-2.06 2.06-.94-2.06-.94L8.5 2.5l-.94 2.06-2.06.94zm10 10l.94 2.06.94-2.06 2.06-.94-2.06-.94-.94-2.06-.94 2.06-2.06.94z\"/><path d=\"M17.41 7.96l-1.37-1.37c-.4-.4-.92-.59-1.43-.59-.52 0-1.04.2-1.43.59L10.3 9.45l-7.72 7.72c-.78.78-.78 2.05 0 2.83L4 21.41c.39.39.9.59 1.41.59.51 0 1.02-.2 1.41-.59l7.78-7.78 2.81-2.81c.8-.78.8-2.07 0-2.86zM5.41 20L4 18.59l7.72-7.72 1.47 1.35L5.41 20z\"/>\n",
              "  </svg>\n",
              "      </button>\n",
              "\n",
              "\n",
              "\n",
              "    <div id=\"df-f4047db7-d0f1-4679-8a98-87d6bffe6b1d\">\n",
              "      <button class=\"colab-df-quickchart\" onclick=\"quickchart('df-f4047db7-d0f1-4679-8a98-87d6bffe6b1d')\"\n",
              "              title=\"Suggest charts.\"\n",
              "              style=\"display:none;\">\n",
              "\n",
              "<svg xmlns=\"http://www.w3.org/2000/svg\" height=\"24px\"viewBox=\"0 0 24 24\"\n",
              "     width=\"24px\">\n",
              "    <g>\n",
              "        <path d=\"M19 3H5c-1.1 0-2 .9-2 2v14c0 1.1.9 2 2 2h14c1.1 0 2-.9 2-2V5c0-1.1-.9-2-2-2zM9 17H7v-7h2v7zm4 0h-2V7h2v10zm4 0h-2v-4h2v4z\"/>\n",
              "    </g>\n",
              "</svg>\n",
              "      </button>\n",
              "    </div>\n",
              "\n",
              "<style>\n",
              "  .colab-df-quickchart {\n",
              "    background-color: #E8F0FE;\n",
              "    border: none;\n",
              "    border-radius: 50%;\n",
              "    cursor: pointer;\n",
              "    display: none;\n",
              "    fill: #1967D2;\n",
              "    height: 32px;\n",
              "    padding: 0 0 0 0;\n",
              "    width: 32px;\n",
              "  }\n",
              "\n",
              "  .colab-df-quickchart:hover {\n",
              "    background-color: #E2EBFA;\n",
              "    box-shadow: 0px 1px 2px rgba(60, 64, 67, 0.3), 0px 1px 3px 1px rgba(60, 64, 67, 0.15);\n",
              "    fill: #174EA6;\n",
              "  }\n",
              "\n",
              "  [theme=dark] .colab-df-quickchart {\n",
              "    background-color: #3B4455;\n",
              "    fill: #D2E3FC;\n",
              "  }\n",
              "\n",
              "  [theme=dark] .colab-df-quickchart:hover {\n",
              "    background-color: #434B5C;\n",
              "    box-shadow: 0px 1px 3px 1px rgba(0, 0, 0, 0.15);\n",
              "    filter: drop-shadow(0px 1px 2px rgba(0, 0, 0, 0.3));\n",
              "    fill: #FFFFFF;\n",
              "  }\n",
              "</style>\n",
              "\n",
              "    <script>\n",
              "      async function quickchart(key) {\n",
              "        const containerElement = document.querySelector('#' + key);\n",
              "        const charts = await google.colab.kernel.invokeFunction(\n",
              "            'suggestCharts', [key], {});\n",
              "      }\n",
              "    </script>\n",
              "\n",
              "      <script>\n",
              "\n",
              "function displayQuickchartButton(domScope) {\n",
              "  let quickchartButtonEl =\n",
              "    domScope.querySelector('#df-f4047db7-d0f1-4679-8a98-87d6bffe6b1d button.colab-df-quickchart');\n",
              "  quickchartButtonEl.style.display =\n",
              "    google.colab.kernel.accessAllowed ? 'block' : 'none';\n",
              "}\n",
              "\n",
              "        displayQuickchartButton(document);\n",
              "      </script>\n",
              "      <style>\n",
              "    .colab-df-container {\n",
              "      display:flex;\n",
              "      flex-wrap:wrap;\n",
              "      gap: 12px;\n",
              "    }\n",
              "\n",
              "    .colab-df-convert {\n",
              "      background-color: #E8F0FE;\n",
              "      border: none;\n",
              "      border-radius: 50%;\n",
              "      cursor: pointer;\n",
              "      display: none;\n",
              "      fill: #1967D2;\n",
              "      height: 32px;\n",
              "      padding: 0 0 0 0;\n",
              "      width: 32px;\n",
              "    }\n",
              "\n",
              "    .colab-df-convert:hover {\n",
              "      background-color: #E2EBFA;\n",
              "      box-shadow: 0px 1px 2px rgba(60, 64, 67, 0.3), 0px 1px 3px 1px rgba(60, 64, 67, 0.15);\n",
              "      fill: #174EA6;\n",
              "    }\n",
              "\n",
              "    [theme=dark] .colab-df-convert {\n",
              "      background-color: #3B4455;\n",
              "      fill: #D2E3FC;\n",
              "    }\n",
              "\n",
              "    [theme=dark] .colab-df-convert:hover {\n",
              "      background-color: #434B5C;\n",
              "      box-shadow: 0px 1px 3px 1px rgba(0, 0, 0, 0.15);\n",
              "      filter: drop-shadow(0px 1px 2px rgba(0, 0, 0, 0.3));\n",
              "      fill: #FFFFFF;\n",
              "    }\n",
              "  </style>\n",
              "\n",
              "      <script>\n",
              "        const buttonEl =\n",
              "          document.querySelector('#df-db485c5e-7337-4864-a9e8-252e05e8b991 button.colab-df-convert');\n",
              "        buttonEl.style.display =\n",
              "          google.colab.kernel.accessAllowed ? 'block' : 'none';\n",
              "\n",
              "        async function convertToInteractive(key) {\n",
              "          const element = document.querySelector('#df-db485c5e-7337-4864-a9e8-252e05e8b991');\n",
              "          const dataTable =\n",
              "            await google.colab.kernel.invokeFunction('convertToInteractive',\n",
              "                                                     [key], {});\n",
              "          if (!dataTable) return;\n",
              "\n",
              "          const docLinkHtml = 'Like what you see? Visit the ' +\n",
              "            '<a target=\"_blank\" href=https://colab.research.google.com/notebooks/data_table.ipynb>data table notebook</a>'\n",
              "            + ' to learn more about interactive tables.';\n",
              "          element.innerHTML = '';\n",
              "          dataTable['output_type'] = 'display_data';\n",
              "          await google.colab.output.renderOutput(dataTable, element);\n",
              "          const docLink = document.createElement('div');\n",
              "          docLink.innerHTML = docLinkHtml;\n",
              "          element.appendChild(docLink);\n",
              "        }\n",
              "      </script>\n",
              "    </div>\n",
              "  </div>\n"
            ]
          },
          "metadata": {},
          "execution_count": 19
        }
      ]
    },
    {
      "cell_type": "code",
      "source": [
        "# Splitting the dataset into the Training set and Test set\n",
        "from sklearn.model_selection import train_test_split\n",
        "X_train, X_test, y_train, y_test = train_test_split(X, y, test_size = 0.2, random_state = 0)\n"
      ],
      "metadata": {
        "id": "xx41eAoQ4onJ"
      },
      "execution_count": 20,
      "outputs": []
    },
    {
      "cell_type": "code",
      "source": [
        "# Feature Scaling\n",
        "from sklearn.preprocessing import StandardScaler\n",
        "sc = StandardScaler()\n",
        "X_train = sc.fit_transform(X_train)\n",
        "X_test = sc.transform(X_test)"
      ],
      "metadata": {
        "id": "XIez7ZoP4qWy"
      },
      "execution_count": 21,
      "outputs": []
    },
    {
      "cell_type": "code",
      "source": [
        "import tensorflow\n",
        "print(tensorflow.__version__)"
      ],
      "metadata": {
        "colab": {
          "base_uri": "https://localhost:8080/"
        },
        "id": "pfcT2_Wl4rpo",
        "outputId": "9825e279-044d-4f76-e5f7-908a23773385"
      },
      "execution_count": 22,
      "outputs": [
        {
          "output_type": "stream",
          "name": "stdout",
          "text": [
            "2.12.0\n"
          ]
        }
      ]
    },
    {
      "cell_type": "code",
      "source": [
        "# Part 2 - Now let's make the ANN!\n",
        "\n",
        "# Importing the Keras libraries and packages\n",
        "import tensorflow.keras\n",
        "from tensorflow.keras.models import Sequential\n",
        "from tensorflow.keras.layers import Dense\n",
        "from tensorflow.keras.layers import Dropout"
      ],
      "metadata": {
        "id": "Ti0A3shA4tia"
      },
      "execution_count": 23,
      "outputs": []
    },
    {
      "cell_type": "code",
      "source": [
        "# Initialising the ANN\n",
        "classifier = Sequential()\n",
        "\n",
        "# Adding the input layer and the first hidden layer\n",
        "classifier.add(Dense(units = 10,kernel_initializer='he_uniform',activation='relu',input_dim = 11))\n",
        "\n",
        "# Adding the second hidden layer\n",
        "classifier.add(Dense(units = 10, kernel_initializer = 'he_uniform',activation='relu'))\n",
        "# Adding the output layer\n",
        "classifier.add(Dense(units = 1, kernel_initializer = 'glorot_uniform', activation = 'sigmoid'))\n",
        "\n",
        "# Compiling the ANN\n",
        "classifier.compile(optimizer = 'adam', loss = 'binary_crossentropy', metrics = ['accuracy'])"
      ],
      "metadata": {
        "id": "6R3JcXUH4vJJ"
      },
      "execution_count": 24,
      "outputs": []
    },
    {
      "cell_type": "code",
      "source": [
        "classifier.summary()"
      ],
      "metadata": {
        "colab": {
          "base_uri": "https://localhost:8080/"
        },
        "id": "zH1_h6L34w8W",
        "outputId": "a4f64a1d-90c7-449c-a7ee-625fa8a97346"
      },
      "execution_count": 25,
      "outputs": [
        {
          "output_type": "stream",
          "name": "stdout",
          "text": [
            "Model: \"sequential\"\n",
            "_________________________________________________________________\n",
            " Layer (type)                Output Shape              Param #   \n",
            "=================================================================\n",
            " dense (Dense)               (None, 10)                120       \n",
            "                                                                 \n",
            " dense_1 (Dense)             (None, 10)                110       \n",
            "                                                                 \n",
            " dense_2 (Dense)             (None, 1)                 11        \n",
            "                                                                 \n",
            "=================================================================\n",
            "Total params: 241\n",
            "Trainable params: 241\n",
            "Non-trainable params: 0\n",
            "_________________________________________________________________\n"
          ]
        }
      ]
    },
    {
      "cell_type": "code",
      "source": [
        "X_train.shape"
      ],
      "metadata": {
        "colab": {
          "base_uri": "https://localhost:8080/"
        },
        "id": "5SBwmoN-4ztv",
        "outputId": "ee07d600-dc0b-4367-9212-587ea8698f2a"
      },
      "execution_count": 26,
      "outputs": [
        {
          "output_type": "execute_result",
          "data": {
            "text/plain": [
              "(8000, 11)"
            ]
          },
          "metadata": {},
          "execution_count": 26
        }
      ]
    },
    {
      "cell_type": "code",
      "source": [
        "# Fitting the ANN to the Training set\n",
        "\n",
        "from tensorflow.keras.callbacks import History\n",
        "\n",
        "# Create an instance of the History callback\n",
        "histories = History()\n",
        "\n",
        "# Fitting the ANN to the Training set\n",
        "model_history = classifier.fit(X_train, y_train, validation_split=0.33, batch_size=100, epochs=100, callbacks=[histories])\n"
      ],
      "metadata": {
        "colab": {
          "base_uri": "https://localhost:8080/"
        },
        "id": "FhsODKLH5jZI",
        "outputId": "9c845b4e-325f-4498-d364-4b837db2ce00"
      },
      "execution_count": 30,
      "outputs": [
        {
          "output_type": "stream",
          "name": "stdout",
          "text": [
            "Epoch 1/100\n",
            "54/54 [==============================] - 7s 13ms/step - loss: 0.6749 - accuracy: 0.5779 - val_loss: 0.5893 - val_accuracy: 0.7077\n",
            "Epoch 2/100\n",
            "54/54 [==============================] - 0s 9ms/step - loss: 0.5452 - accuracy: 0.7595 - val_loss: 0.5263 - val_accuracy: 0.7781\n",
            "Epoch 3/100\n",
            "54/54 [==============================] - 0s 8ms/step - loss: 0.5035 - accuracy: 0.7936 - val_loss: 0.5020 - val_accuracy: 0.7974\n",
            "Epoch 4/100\n",
            "54/54 [==============================] - 0s 9ms/step - loss: 0.4845 - accuracy: 0.8003 - val_loss: 0.4875 - val_accuracy: 0.8012\n",
            "Epoch 5/100\n",
            "54/54 [==============================] - 0s 7ms/step - loss: 0.4720 - accuracy: 0.8057 - val_loss: 0.4762 - val_accuracy: 0.8050\n",
            "Epoch 6/100\n",
            "54/54 [==============================] - 0s 8ms/step - loss: 0.4624 - accuracy: 0.8076 - val_loss: 0.4669 - val_accuracy: 0.8042\n",
            "Epoch 7/100\n",
            "54/54 [==============================] - 0s 5ms/step - loss: 0.4543 - accuracy: 0.8102 - val_loss: 0.4591 - val_accuracy: 0.8039\n",
            "Epoch 8/100\n",
            "54/54 [==============================] - 0s 5ms/step - loss: 0.4480 - accuracy: 0.8121 - val_loss: 0.4524 - val_accuracy: 0.8046\n",
            "Epoch 9/100\n",
            "54/54 [==============================] - 0s 5ms/step - loss: 0.4418 - accuracy: 0.8141 - val_loss: 0.4473 - val_accuracy: 0.8065\n",
            "Epoch 10/100\n",
            "54/54 [==============================] - 0s 5ms/step - loss: 0.4369 - accuracy: 0.8160 - val_loss: 0.4430 - val_accuracy: 0.8065\n",
            "Epoch 11/100\n",
            "54/54 [==============================] - 0s 5ms/step - loss: 0.4324 - accuracy: 0.8168 - val_loss: 0.4394 - val_accuracy: 0.8084\n",
            "Epoch 12/100\n",
            "54/54 [==============================] - 0s 5ms/step - loss: 0.4287 - accuracy: 0.8162 - val_loss: 0.4365 - val_accuracy: 0.8088\n",
            "Epoch 13/100\n",
            "54/54 [==============================] - 0s 5ms/step - loss: 0.4255 - accuracy: 0.8156 - val_loss: 0.4340 - val_accuracy: 0.8114\n",
            "Epoch 14/100\n",
            "54/54 [==============================] - 0s 5ms/step - loss: 0.4226 - accuracy: 0.8173 - val_loss: 0.4321 - val_accuracy: 0.8145\n",
            "Epoch 15/100\n",
            "54/54 [==============================] - 0s 5ms/step - loss: 0.4202 - accuracy: 0.8196 - val_loss: 0.4303 - val_accuracy: 0.8137\n",
            "Epoch 16/100\n",
            "54/54 [==============================] - 0s 5ms/step - loss: 0.4181 - accuracy: 0.8214 - val_loss: 0.4287 - val_accuracy: 0.8148\n",
            "Epoch 17/100\n",
            "54/54 [==============================] - 0s 6ms/step - loss: 0.4159 - accuracy: 0.8220 - val_loss: 0.4267 - val_accuracy: 0.8171\n",
            "Epoch 18/100\n",
            "54/54 [==============================] - 0s 5ms/step - loss: 0.4140 - accuracy: 0.8222 - val_loss: 0.4256 - val_accuracy: 0.8160\n",
            "Epoch 19/100\n",
            "54/54 [==============================] - 0s 5ms/step - loss: 0.4119 - accuracy: 0.8212 - val_loss: 0.4237 - val_accuracy: 0.8198\n",
            "Epoch 20/100\n",
            "54/54 [==============================] - 0s 5ms/step - loss: 0.4100 - accuracy: 0.8237 - val_loss: 0.4219 - val_accuracy: 0.8194\n",
            "Epoch 21/100\n",
            "54/54 [==============================] - 0s 5ms/step - loss: 0.4080 - accuracy: 0.8272 - val_loss: 0.4204 - val_accuracy: 0.8209\n",
            "Epoch 22/100\n",
            "54/54 [==============================] - 0s 5ms/step - loss: 0.4054 - accuracy: 0.8280 - val_loss: 0.4183 - val_accuracy: 0.8247\n",
            "Epoch 23/100\n",
            "54/54 [==============================] - 0s 5ms/step - loss: 0.4031 - accuracy: 0.8291 - val_loss: 0.4156 - val_accuracy: 0.8243\n",
            "Epoch 24/100\n",
            "54/54 [==============================] - 0s 5ms/step - loss: 0.4002 - accuracy: 0.8306 - val_loss: 0.4131 - val_accuracy: 0.8262\n",
            "Epoch 25/100\n",
            "54/54 [==============================] - 0s 5ms/step - loss: 0.3974 - accuracy: 0.8319 - val_loss: 0.4110 - val_accuracy: 0.8247\n",
            "Epoch 26/100\n",
            "54/54 [==============================] - 0s 5ms/step - loss: 0.3946 - accuracy: 0.8339 - val_loss: 0.4082 - val_accuracy: 0.8262\n",
            "Epoch 27/100\n",
            "54/54 [==============================] - 0s 5ms/step - loss: 0.3914 - accuracy: 0.8354 - val_loss: 0.4057 - val_accuracy: 0.8266\n",
            "Epoch 28/100\n",
            "54/54 [==============================] - 0s 5ms/step - loss: 0.3886 - accuracy: 0.8378 - val_loss: 0.4026 - val_accuracy: 0.8281\n",
            "Epoch 29/100\n",
            "54/54 [==============================] - 0s 5ms/step - loss: 0.3852 - accuracy: 0.8391 - val_loss: 0.3998 - val_accuracy: 0.8281\n",
            "Epoch 30/100\n",
            "54/54 [==============================] - 0s 5ms/step - loss: 0.3819 - accuracy: 0.8408 - val_loss: 0.3974 - val_accuracy: 0.8315\n",
            "Epoch 31/100\n",
            "54/54 [==============================] - 0s 5ms/step - loss: 0.3785 - accuracy: 0.8418 - val_loss: 0.3943 - val_accuracy: 0.8319\n",
            "Epoch 32/100\n",
            "54/54 [==============================] - 0s 5ms/step - loss: 0.3755 - accuracy: 0.8425 - val_loss: 0.3913 - val_accuracy: 0.8334\n",
            "Epoch 33/100\n",
            "54/54 [==============================] - 0s 5ms/step - loss: 0.3723 - accuracy: 0.8455 - val_loss: 0.3886 - val_accuracy: 0.8357\n",
            "Epoch 34/100\n",
            "54/54 [==============================] - 0s 5ms/step - loss: 0.3691 - accuracy: 0.8481 - val_loss: 0.3870 - val_accuracy: 0.8353\n",
            "Epoch 35/100\n",
            "54/54 [==============================] - 0s 5ms/step - loss: 0.3663 - accuracy: 0.8487 - val_loss: 0.3830 - val_accuracy: 0.8395\n",
            "Epoch 36/100\n",
            "54/54 [==============================] - 0s 5ms/step - loss: 0.3642 - accuracy: 0.8507 - val_loss: 0.3810 - val_accuracy: 0.8372\n",
            "Epoch 37/100\n",
            "54/54 [==============================] - 0s 5ms/step - loss: 0.3612 - accuracy: 0.8509 - val_loss: 0.3787 - val_accuracy: 0.8395\n",
            "Epoch 38/100\n",
            "54/54 [==============================] - 0s 5ms/step - loss: 0.3590 - accuracy: 0.8500 - val_loss: 0.3762 - val_accuracy: 0.8429\n",
            "Epoch 39/100\n",
            "54/54 [==============================] - 0s 5ms/step - loss: 0.3569 - accuracy: 0.8511 - val_loss: 0.3745 - val_accuracy: 0.8436\n",
            "Epoch 40/100\n",
            "54/54 [==============================] - 0s 5ms/step - loss: 0.3542 - accuracy: 0.8522 - val_loss: 0.3727 - val_accuracy: 0.8436\n",
            "Epoch 41/100\n",
            "54/54 [==============================] - 0s 5ms/step - loss: 0.3518 - accuracy: 0.8531 - val_loss: 0.3710 - val_accuracy: 0.8451\n",
            "Epoch 42/100\n",
            "54/54 [==============================] - 0s 5ms/step - loss: 0.3495 - accuracy: 0.8541 - val_loss: 0.3693 - val_accuracy: 0.8463\n",
            "Epoch 43/100\n",
            "54/54 [==============================] - 0s 9ms/step - loss: 0.3481 - accuracy: 0.8556 - val_loss: 0.3678 - val_accuracy: 0.8466\n",
            "Epoch 44/100\n",
            "54/54 [==============================] - 0s 8ms/step - loss: 0.3461 - accuracy: 0.8574 - val_loss: 0.3666 - val_accuracy: 0.8501\n",
            "Epoch 45/100\n",
            "54/54 [==============================] - 0s 7ms/step - loss: 0.3451 - accuracy: 0.8586 - val_loss: 0.3651 - val_accuracy: 0.8485\n",
            "Epoch 46/100\n",
            "54/54 [==============================] - 0s 8ms/step - loss: 0.3438 - accuracy: 0.8595 - val_loss: 0.3653 - val_accuracy: 0.8516\n",
            "Epoch 47/100\n",
            "54/54 [==============================] - 0s 8ms/step - loss: 0.3422 - accuracy: 0.8597 - val_loss: 0.3651 - val_accuracy: 0.8504\n",
            "Epoch 48/100\n",
            "54/54 [==============================] - 0s 7ms/step - loss: 0.3409 - accuracy: 0.8621 - val_loss: 0.3636 - val_accuracy: 0.8512\n",
            "Epoch 49/100\n",
            "54/54 [==============================] - 0s 6ms/step - loss: 0.3400 - accuracy: 0.8619 - val_loss: 0.3639 - val_accuracy: 0.8504\n",
            "Epoch 50/100\n",
            "54/54 [==============================] - 0s 5ms/step - loss: 0.3393 - accuracy: 0.8606 - val_loss: 0.3636 - val_accuracy: 0.8485\n",
            "Epoch 51/100\n",
            "54/54 [==============================] - 0s 5ms/step - loss: 0.3385 - accuracy: 0.8606 - val_loss: 0.3633 - val_accuracy: 0.8512\n",
            "Epoch 52/100\n",
            "54/54 [==============================] - 0s 5ms/step - loss: 0.3376 - accuracy: 0.8628 - val_loss: 0.3630 - val_accuracy: 0.8512\n",
            "Epoch 53/100\n",
            "54/54 [==============================] - 0s 5ms/step - loss: 0.3368 - accuracy: 0.8627 - val_loss: 0.3625 - val_accuracy: 0.8493\n",
            "Epoch 54/100\n",
            "54/54 [==============================] - 0s 5ms/step - loss: 0.3362 - accuracy: 0.8625 - val_loss: 0.3622 - val_accuracy: 0.8497\n",
            "Epoch 55/100\n",
            "54/54 [==============================] - 0s 5ms/step - loss: 0.3359 - accuracy: 0.8604 - val_loss: 0.3623 - val_accuracy: 0.8504\n",
            "Epoch 56/100\n",
            "54/54 [==============================] - 0s 5ms/step - loss: 0.3351 - accuracy: 0.8625 - val_loss: 0.3638 - val_accuracy: 0.8531\n",
            "Epoch 57/100\n",
            "54/54 [==============================] - 0s 5ms/step - loss: 0.3354 - accuracy: 0.8612 - val_loss: 0.3617 - val_accuracy: 0.8489\n",
            "Epoch 58/100\n",
            "54/54 [==============================] - 0s 5ms/step - loss: 0.3343 - accuracy: 0.8614 - val_loss: 0.3622 - val_accuracy: 0.8493\n",
            "Epoch 59/100\n",
            "54/54 [==============================] - 0s 5ms/step - loss: 0.3345 - accuracy: 0.8610 - val_loss: 0.3617 - val_accuracy: 0.8493\n",
            "Epoch 60/100\n",
            "54/54 [==============================] - 0s 5ms/step - loss: 0.3337 - accuracy: 0.8606 - val_loss: 0.3618 - val_accuracy: 0.8485\n",
            "Epoch 61/100\n",
            "54/54 [==============================] - 0s 5ms/step - loss: 0.3336 - accuracy: 0.8615 - val_loss: 0.3617 - val_accuracy: 0.8519\n",
            "Epoch 62/100\n",
            "54/54 [==============================] - 0s 5ms/step - loss: 0.3333 - accuracy: 0.8608 - val_loss: 0.3619 - val_accuracy: 0.8508\n",
            "Epoch 63/100\n",
            "54/54 [==============================] - 0s 5ms/step - loss: 0.3326 - accuracy: 0.8608 - val_loss: 0.3617 - val_accuracy: 0.8497\n",
            "Epoch 64/100\n",
            "54/54 [==============================] - 0s 5ms/step - loss: 0.3324 - accuracy: 0.8614 - val_loss: 0.3617 - val_accuracy: 0.8478\n",
            "Epoch 65/100\n",
            "54/54 [==============================] - 0s 5ms/step - loss: 0.3328 - accuracy: 0.8614 - val_loss: 0.3618 - val_accuracy: 0.8489\n",
            "Epoch 66/100\n",
            "54/54 [==============================] - 0s 5ms/step - loss: 0.3318 - accuracy: 0.8623 - val_loss: 0.3616 - val_accuracy: 0.8519\n",
            "Epoch 67/100\n",
            "54/54 [==============================] - 0s 5ms/step - loss: 0.3314 - accuracy: 0.8619 - val_loss: 0.3610 - val_accuracy: 0.8497\n",
            "Epoch 68/100\n",
            "54/54 [==============================] - 0s 5ms/step - loss: 0.3313 - accuracy: 0.8625 - val_loss: 0.3607 - val_accuracy: 0.8497\n",
            "Epoch 69/100\n",
            "54/54 [==============================] - 0s 5ms/step - loss: 0.3311 - accuracy: 0.8612 - val_loss: 0.3610 - val_accuracy: 0.8523\n",
            "Epoch 70/100\n",
            "54/54 [==============================] - 0s 5ms/step - loss: 0.3311 - accuracy: 0.8610 - val_loss: 0.3604 - val_accuracy: 0.8512\n",
            "Epoch 71/100\n",
            "54/54 [==============================] - 0s 5ms/step - loss: 0.3306 - accuracy: 0.8634 - val_loss: 0.3601 - val_accuracy: 0.8519\n",
            "Epoch 72/100\n",
            "54/54 [==============================] - 0s 5ms/step - loss: 0.3302 - accuracy: 0.8617 - val_loss: 0.3604 - val_accuracy: 0.8523\n",
            "Epoch 73/100\n",
            "54/54 [==============================] - 0s 5ms/step - loss: 0.3303 - accuracy: 0.8610 - val_loss: 0.3606 - val_accuracy: 0.8512\n",
            "Epoch 74/100\n",
            "54/54 [==============================] - 0s 5ms/step - loss: 0.3299 - accuracy: 0.8628 - val_loss: 0.3602 - val_accuracy: 0.8519\n",
            "Epoch 75/100\n",
            "54/54 [==============================] - 0s 5ms/step - loss: 0.3298 - accuracy: 0.8617 - val_loss: 0.3605 - val_accuracy: 0.8531\n",
            "Epoch 76/100\n",
            "54/54 [==============================] - 0s 5ms/step - loss: 0.3296 - accuracy: 0.8638 - val_loss: 0.3602 - val_accuracy: 0.8523\n",
            "Epoch 77/100\n",
            "54/54 [==============================] - 0s 5ms/step - loss: 0.3296 - accuracy: 0.8621 - val_loss: 0.3604 - val_accuracy: 0.8512\n",
            "Epoch 78/100\n",
            "54/54 [==============================] - 0s 5ms/step - loss: 0.3292 - accuracy: 0.8619 - val_loss: 0.3604 - val_accuracy: 0.8516\n",
            "Epoch 79/100\n",
            "54/54 [==============================] - 0s 5ms/step - loss: 0.3289 - accuracy: 0.8634 - val_loss: 0.3603 - val_accuracy: 0.8527\n",
            "Epoch 80/100\n",
            "54/54 [==============================] - 0s 5ms/step - loss: 0.3289 - accuracy: 0.8628 - val_loss: 0.3604 - val_accuracy: 0.8523\n",
            "Epoch 81/100\n",
            "54/54 [==============================] - 0s 5ms/step - loss: 0.3285 - accuracy: 0.8614 - val_loss: 0.3601 - val_accuracy: 0.8508\n",
            "Epoch 82/100\n",
            "54/54 [==============================] - 0s 5ms/step - loss: 0.3284 - accuracy: 0.8614 - val_loss: 0.3596 - val_accuracy: 0.8527\n",
            "Epoch 83/100\n",
            "54/54 [==============================] - 0s 5ms/step - loss: 0.3281 - accuracy: 0.8632 - val_loss: 0.3602 - val_accuracy: 0.8508\n",
            "Epoch 84/100\n",
            "54/54 [==============================] - 0s 5ms/step - loss: 0.3284 - accuracy: 0.8619 - val_loss: 0.3597 - val_accuracy: 0.8516\n",
            "Epoch 85/100\n",
            "54/54 [==============================] - 0s 5ms/step - loss: 0.3280 - accuracy: 0.8606 - val_loss: 0.3598 - val_accuracy: 0.8516\n",
            "Epoch 86/100\n",
            "54/54 [==============================] - 0s 7ms/step - loss: 0.3280 - accuracy: 0.8615 - val_loss: 0.3601 - val_accuracy: 0.8527\n",
            "Epoch 87/100\n",
            "54/54 [==============================] - 0s 6ms/step - loss: 0.3278 - accuracy: 0.8617 - val_loss: 0.3594 - val_accuracy: 0.8519\n",
            "Epoch 88/100\n",
            "54/54 [==============================] - 0s 9ms/step - loss: 0.3276 - accuracy: 0.8617 - val_loss: 0.3600 - val_accuracy: 0.8512\n",
            "Epoch 89/100\n",
            "54/54 [==============================] - 0s 7ms/step - loss: 0.3275 - accuracy: 0.8634 - val_loss: 0.3598 - val_accuracy: 0.8504\n",
            "Epoch 90/100\n",
            "54/54 [==============================] - 0s 8ms/step - loss: 0.3273 - accuracy: 0.8634 - val_loss: 0.3598 - val_accuracy: 0.8508\n",
            "Epoch 91/100\n",
            "54/54 [==============================] - 0s 8ms/step - loss: 0.3270 - accuracy: 0.8619 - val_loss: 0.3597 - val_accuracy: 0.8519\n",
            "Epoch 92/100\n",
            "54/54 [==============================] - 0s 8ms/step - loss: 0.3268 - accuracy: 0.8627 - val_loss: 0.3599 - val_accuracy: 0.8519\n",
            "Epoch 93/100\n",
            "54/54 [==============================] - 0s 6ms/step - loss: 0.3269 - accuracy: 0.8636 - val_loss: 0.3601 - val_accuracy: 0.8512\n",
            "Epoch 94/100\n",
            "54/54 [==============================] - 0s 5ms/step - loss: 0.3265 - accuracy: 0.8617 - val_loss: 0.3595 - val_accuracy: 0.8523\n",
            "Epoch 95/100\n",
            "54/54 [==============================] - 0s 5ms/step - loss: 0.3266 - accuracy: 0.8630 - val_loss: 0.3596 - val_accuracy: 0.8497\n",
            "Epoch 96/100\n",
            "54/54 [==============================] - 0s 5ms/step - loss: 0.3267 - accuracy: 0.8628 - val_loss: 0.3596 - val_accuracy: 0.8508\n",
            "Epoch 97/100\n",
            "54/54 [==============================] - 0s 5ms/step - loss: 0.3265 - accuracy: 0.8640 - val_loss: 0.3597 - val_accuracy: 0.8493\n",
            "Epoch 98/100\n",
            "54/54 [==============================] - 0s 5ms/step - loss: 0.3263 - accuracy: 0.8638 - val_loss: 0.3599 - val_accuracy: 0.8485\n",
            "Epoch 99/100\n",
            "54/54 [==============================] - 0s 5ms/step - loss: 0.3259 - accuracy: 0.8645 - val_loss: 0.3603 - val_accuracy: 0.8501\n",
            "Epoch 100/100\n",
            "54/54 [==============================] - 0s 5ms/step - loss: 0.3258 - accuracy: 0.8645 - val_loss: 0.3607 - val_accuracy: 0.8485\n"
          ]
        }
      ]
    },
    {
      "cell_type": "code",
      "source": [
        "model_history.history.keys()"
      ],
      "metadata": {
        "colab": {
          "base_uri": "https://localhost:8080/"
        },
        "id": "iwW-Pk_p43Qv",
        "outputId": "47e92d5e-0523-4318-adf3-57bad25d3d50"
      },
      "execution_count": 31,
      "outputs": [
        {
          "output_type": "execute_result",
          "data": {
            "text/plain": [
              "dict_keys(['loss', 'accuracy', 'val_loss', 'val_accuracy'])"
            ]
          },
          "metadata": {},
          "execution_count": 31
        }
      ]
    },
    {
      "cell_type": "code",
      "source": [
        "# list all data in history\n",
        "\n",
        "print(model_history.history.keys())\n",
        "# summarize history for accuracy\n",
        "plt.plot(model_history.history['accuracy'])\n",
        "plt.plot(model_history.history['val_accuracy'])\n",
        "plt.title('model accuracy')\n",
        "plt.ylabel('accuracy')\n",
        "plt.xlabel('epoch')\n",
        "plt.legend(['train', 'test'], loc='upper left')\n",
        "plt.show()"
      ],
      "metadata": {
        "colab": {
          "base_uri": "https://localhost:8080/",
          "height": 490
        },
        "id": "yptqyBmd4-Vi",
        "outputId": "ca05d626-6551-412d-8482-bbbc57a67ae3"
      },
      "execution_count": 32,
      "outputs": [
        {
          "output_type": "stream",
          "name": "stdout",
          "text": [
            "dict_keys(['loss', 'accuracy', 'val_loss', 'val_accuracy'])\n"
          ]
        },
        {
          "output_type": "display_data",
          "data": {
            "text/plain": [
              "<Figure size 640x480 with 1 Axes>"
            ],
            "image/png": "[encoded data removed]"
          },
          "metadata": {}
        }
      ]
    },
    {
      "cell_type": "code",
      "source": [
        "# summarize history for loss\n",
        "plt.plot(model_history.history['loss'])\n",
        "plt.plot(model_history.history['val_loss'])\n",
        "plt.title('model loss')\n",
        "plt.ylabel('loss')\n",
        "plt.xlabel('epoch')\n",
        "plt.legend(['train', 'test'], loc='upper left')\n",
        "plt.show()"
      ],
      "metadata": {
        "colab": {
          "base_uri": "https://localhost:8080/",
          "height": 472
        },
        "id": "JG4wzrh15Kwk",
        "outputId": "9670ce5e-1ab1-43c8-dc14-9dbb6d23f67f"
      },
      "execution_count": 33,
      "outputs": [
        {
          "output_type": "display_data",
          "data": {
            "text/plain": [
              "<Figure size 640x480 with 1 Axes>"
            ],
            "image/png": "[encoded data removed]"
          },
          "metadata": {}
        }
      ]
    },
    {
      "cell_type": "code",
      "source": [
        "# Part 3 - Making the predictions and evaluating the model\n",
        "\n",
        "# Predicting the Test set results\n",
        "y_pred = classifier.predict(X_test)\n",
        "y_pred = (y_pred > 0.5)"
      ],
      "metadata": {
        "colab": {
          "base_uri": "https://localhost:8080/"
        },
        "id": "AjtK2Qay5Kt9",
        "outputId": "26c059c5-13b0-4dfd-810b-7508d483ee22"
      },
      "execution_count": 34,
      "outputs": [
        {
          "output_type": "stream",
          "name": "stdout",
          "text": [
            "63/63 [==============================] - 0s 1ms/step\n"
          ]
        }
      ]
    },
    {
      "cell_type": "code",
      "source": [
        "y_pred"
      ],
      "metadata": {
        "colab": {
          "base_uri": "https://localhost:8080/"
        },
        "id": "kC8But2_5Vqg",
        "outputId": "a0ae366b-0510-4b32-86af-1c2b39ff5af3"
      },
      "execution_count": 35,
      "outputs": [
        {
          "output_type": "execute_result",
          "data": {
            "text/plain": [
              "array([[False],\n",
              "       [False],\n",
              "       [False],\n",
              "       ...,\n",
              "       [False],\n",
              "       [False],\n",
              "       [False]])"
            ]
          },
          "metadata": {},
          "execution_count": 35
        }
      ]
    },
    {
      "cell_type": "code",
      "source": [
        "# Making the Confusion Matrix\n",
        "from sklearn.metrics import confusion_matrix\n",
        "cm = confusion_matrix(y_test, y_pred)"
      ],
      "metadata": {
        "id": "o1RLYA635Krn"
      },
      "execution_count": 36,
      "outputs": []
    },
    {
      "cell_type": "code",
      "source": [
        "cm"
      ],
      "metadata": {
        "colab": {
          "base_uri": "https://localhost:8080/"
        },
        "id": "E5l4nCZW5TJD",
        "outputId": "8be4acb1-e4e3-4243-cb35-0ea833ea5471"
      },
      "execution_count": 37,
      "outputs": [
        {
          "output_type": "execute_result",
          "data": {
            "text/plain": [
              "array([[1497,   98],\n",
              "       [ 185,  220]])"
            ]
          },
          "metadata": {},
          "execution_count": 37
        }
      ]
    },
    {
      "cell_type": "code",
      "source": [
        "# Calculate the Accuracy\n",
        "from sklearn.metrics import accuracy_score\n",
        "score=accuracy_score(y_pred,y_test)"
      ],
      "metadata": {
        "id": "0N0TSylL5KpE"
      },
      "execution_count": 38,
      "outputs": []
    },
    {
      "cell_type": "code",
      "source": [
        "score"
      ],
      "metadata": {
        "colab": {
          "base_uri": "https://localhost:8080/"
        },
        "id": "NDLbfBX-5SGF",
        "outputId": "a84c1411-79ee-4c98-b6f4-17f5f9c15f35"
      },
      "execution_count": 39,
      "outputs": [
        {
          "output_type": "execute_result",
          "data": {
            "text/plain": [
              "0.8585"
            ]
          },
          "metadata": {},
          "execution_count": 39
        }
      ]
    },
    {
      "cell_type": "code",
      "source": [],
      "metadata": {
        "id": "l-DJ9CLU5SDA"
      },
      "execution_count": null,
      "outputs": []
    }
  ]
}